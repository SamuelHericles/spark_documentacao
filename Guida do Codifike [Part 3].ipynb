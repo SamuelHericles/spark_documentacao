{
 "cells": [
  {
   "cell_type": "markdown",
   "id": "f80e8f33",
   "metadata": {},
   "source": [
    "Para fixar mais o conteudo, procurei um tutoral no youtube para estudar mais sobre. Este [aqui](https://www.youtube.com/watch?v=0BY8KySBHwE).\n",
    "\n",
    "Algumas parte eu pulei, porque ele estava rodando no colab e então ele teve que antes configurar o pyspark, que foram estes pasos:\n",
    "1. Instalar o jdk 8\n",
    "2. Instalar a versão mais recebente do spark-hadoop\n",
    "3. Criar as variáveis ambiente\n",
    "4. Instalar o findspark"
   ]
  },
  {
   "cell_type": "code",
   "execution_count": 2,
   "id": "400676af",
   "metadata": {},
   "outputs": [],
   "source": [
    "import findspark\n",
    "findspark.init()"
   ]
  },
  {
   "cell_type": "markdown",
   "id": "e30bfb59",
   "metadata": {},
   "source": [
    "SparkSession, eh como fosse um entrypoint, eh um local na memŕoia onde se pode fazer tudo. Depois do spark 2.0, apenas uma unica sessão pode já servir como todo.\n"
   ]
  },
  {
   "cell_type": "code",
   "execution_count": 12,
   "id": "fee79606",
   "metadata": {},
   "outputs": [],
   "source": [
    "from pyspark.sql import SparkSession\n",
    "\n",
    "# master: Master e slave que trabalha com workers, definindo qual o principal\n",
    "# appName: Nome da aplicação\n",
    "spark = SparkSession.builder.master('local[*]')\\\n",
    "        .appName('sparkcolab')\n",
    "        .config('spark.driver.bindAddress','127.0.0.1')\\\n",
    "        .getOrCreate()"
   ]
  }
 ],
 "metadata": {
  "kernelspec": {
   "display_name": "Python 3 (ipykernel)",
   "language": "python",
   "name": "python3"
  },
  "language_info": {
   "codemirror_mode": {
    "name": "ipython",
    "version": 3
   },
   "file_extension": ".py",
   "mimetype": "text/x-python",
   "name": "python",
   "nbconvert_exporter": "python",
   "pygments_lexer": "ipython3",
   "version": "3.9.7"
  }
 },
 "nbformat": 4,
 "nbformat_minor": 5
}
